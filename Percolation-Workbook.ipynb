{
 "cells": [
  {
   "cell_type": "markdown",
   "metadata": {},
   "source": [
    "## Statistical Mechanics\n",
    "### Percolation workbook"
   ]
  },
  {
   "cell_type": "code",
   "execution_count": 1,
   "metadata": {},
   "outputs": [],
   "source": [
    "import numpy as np\n",
    "import scipy as sp\n",
    "import matplotlib.pyplot as plt\n",
    "from ipywidgets import interact, FloatSlider, IntSlider, Button\n",
    "from IPython.display import clear_output"
   ]
  },
  {
   "cell_type": "markdown",
   "metadata": {},
   "source": [
    "#### Percolation grid\n",
    "The code below creats a grid with each square having an equaly probability (p) of being filled. The girid is of size LxL"
   ]
  },
  {
   "cell_type": "code",
   "execution_count": 2,
   "metadata": {},
   "outputs": [
    {
     "data": {
      "application/vnd.jupyter.widget-view+json": {
       "model_id": "3cb508fc50f74a4193cf54da2e1bf363",
       "version_major": 2,
       "version_minor": 0
      },
      "text/plain": [
       "interactive(children=(FloatSlider(value=0.7, description='p:', max=1.0, step=0.01), IntSlider(value=25, descri…"
      ]
     },
     "metadata": {},
     "output_type": "display_data"
    },
    {
     "data": {
      "text/plain": [
       "<function __main__.plot_grid(p, L)>"
      ]
     },
     "execution_count": 2,
     "metadata": {},
     "output_type": "execute_result"
    }
   ],
   "source": [
    "def plot_grid(p, L):\n",
    "    x = np.random.rand(L**2)\n",
    "    y = []\n",
    "    for i in x:\n",
    "        if i > p:\n",
    "            y.append(0)\n",
    "        else:\n",
    "            y.append(1) \n",
    "\n",
    "    y = np.matrix(y).reshape(L,L)\n",
    "    plt.imshow(y, cmap=\"Purples\", vmin=0, vmax=1.2)\n",
    "    plt.xticks([])\n",
    "    plt.yticks([])\n",
    "\n",
    "\n",
    "p_range = (0, 1, 0.01) # min, max, step\n",
    "L_range = (15, 150, 10) # min, max, step\n",
    "\n",
    "# Create sliders for p and L\n",
    "p_slider = FloatSlider(value=0.7, min=p_range[0], max=p_range[1], step=p_range[2], description='p:')\n",
    "L_slider = IntSlider(value=25, min=L_range[0], max=L_range[1], step=L_range[2], description='L:')\n",
    "\n",
    "# Use the interact function to link the sliders to the plot_grid function\n",
    "interact(plot_grid, p=p_slider, L=L_slider)"
   ]
  },
  {
   "cell_type": "code",
   "execution_count": 3,
   "metadata": {},
   "outputs": [
    {
     "name": "stdout",
     "output_type": "stream",
     "text": [
      "[1, 0, 0, 0, 0]\n",
      "[0, 0, 0, 0, 0]\n",
      "[0, 0, 0, 0, 0]\n",
      "[0, 0, 0, 0, 0]\n",
      "---\n",
      "[0, 0, 0, 0, 1]\n",
      "[0, 0, 0, 0, 0]\n",
      "[0, 0, 0, 0, 0]\n",
      "[0, 0, 0, 0, 0]\n",
      "---\n",
      "[0, 0, 0, 0, 0]\n",
      "[0, 1, 0, 0, 0]\n",
      "[1, 1, 1, 1, 0]\n",
      "[1, 0, 0, 1, 1]\n",
      "---\n",
      "[2]\n"
     ]
    }
   ],
   "source": [
    "def find_clusters(grid):\n",
    "    # Define the directions for up, down, left, and right\n",
    "    directions = [(0, 1), (0, -1), (1, 0), (-1, 0)]\n",
    "    \n",
    "    # Function to check if a cell is within the grid and contains a 1\n",
    "    def is_valid(x, y):\n",
    "        return 0 <= x < len(grid) and 0 <= y < len(grid[0]) and grid[x][y] == 1\n",
    "    \n",
    "    # DFS function to find a cluster\n",
    "    def dfs(x, y, visited, cluster):\n",
    "        # Mark the current cell as visited\n",
    "        visited[x][y] = 1\n",
    "        \n",
    "        # Initialize the cluster with the current cell\n",
    "        cluster[x][y] = 1\n",
    "        \n",
    "        # Try each direction\n",
    "        for dx, dy in directions:\n",
    "            nx, ny = x + dx, y + dy\n",
    "            if is_valid(nx, ny) and not visited[nx][ny]:\n",
    "                # Find the cluster in the direction\n",
    "                sub_cluster = dfs(nx, ny, visited, cluster)\n",
    "                        \n",
    "        return cluster\n",
    "    \n",
    "    # Create a copy of the grid to mark visited cells\n",
    "    visited = [[0 for col in grid[0]] for row in grid]\n",
    "    \n",
    "    # Initialize the list of clusters\n",
    "    clusters = []\n",
    "    \n",
    "    # Start DFS from each cell that contains a 1\n",
    "    for i, row in enumerate(grid):\n",
    "        for j, cell in enumerate(row):\n",
    "            if cell == 1 and not visited[i][j]:\n",
    "                cluster = [[0 for col in grid[0]] for row in grid]\n",
    "                cluster = dfs(i, j, visited, cluster)\n",
    "                clusters.append(cluster)\n",
    "    \n",
    "    return clusters\n",
    "\n",
    "def percolating_cluster(clusters):\n",
    "    perc_cluster_list_location = []\n",
    "    for cluster_number, cluster in enumerate(clusters):\n",
    "        perc_start = False\n",
    "        perc_end = False\n",
    "        for i, row in enumerate(cluster):\n",
    "            if row[0] == 1:\n",
    "                perc_start = True\n",
    "            if row[-1] == 1:\n",
    "                perc_end = True\n",
    "        if perc_start and perc_end:\n",
    "            perc_cluster_list_location.append(cluster_number)\n",
    "    return perc_cluster_list_location\n",
    "            \n",
    "        \n",
    "\n",
    "\n",
    "# Example usage\n",
    "grid = [\n",
    "    [1, 0, 0, 0, 1],\n",
    "    [0, 1, 0, 0, 0],\n",
    "    [1, 1, 1, 1, 0],\n",
    "    [1, 0, 0, 1, 1]\n",
    "]\n",
    "\n",
    "clusters = find_clusters(grid)\n",
    "for cluster in clusters:\n",
    "    for row in cluster:\n",
    "        print(row)\n",
    "    print(\"---\")\n",
    "print(percolating_cluster(clusters))"
   ]
  },
  {
   "cell_type": "code",
   "execution_count": 4,
   "metadata": {},
   "outputs": [
    {
     "data": {
      "application/vnd.jupyter.widget-view+json": {
       "model_id": "8f898b7267a047db9c0cd10bd5af0a93",
       "version_major": 2,
       "version_minor": 0
      },
      "text/plain": [
       "interactive(children=(FloatSlider(value=0.58, description='p:', max=1.0, step=0.01), IntSlider(value=55, descr…"
      ]
     },
     "metadata": {},
     "output_type": "display_data"
    }
   ],
   "source": [
    "def plot_grid_with_perc(p, L):\n",
    "    x = np.random.rand(L**2)\n",
    "    xx = []\n",
    "    for i in x:\n",
    "        if i > p:\n",
    "            xx.append(0)\n",
    "        else:\n",
    "            xx.append(1) \n",
    "    xx = np.matrix(xx, float).reshape(L,L)\n",
    "    y = [[xx[j, i] for i in range(L)] for j in range(L)]\n",
    "\n",
    "    clusters = find_clusters(y)\n",
    "    y = xx\n",
    "    perc_position = percolating_cluster(clusters)\n",
    "    for i in perc_position:\n",
    "        perc_cluster = np.matrix(clusters[i])\n",
    "        y -= 0.4*perc_cluster\n",
    "    \n",
    "    if len(perc_position) == 0:\n",
    "        print(\"There is no percolating clusters\")\n",
    "    else:\n",
    "        print(f\"There is {len(perc_position)} percolating clusters\")\n",
    "        \n",
    "    plt.imshow(y, cmap=\"RdPu\", vmin=0, vmax=1.2)\n",
    "    plt.xticks([])\n",
    "    plt.yticks([])\n",
    "    plt.show()\n",
    "\n",
    "p_range = (0, 1, 0.01) # min, max, step\n",
    "L_range = (15, 150, 10) # min, max, step\n",
    "\n",
    "# Create sliders for p and L\n",
    "p_slider = FloatSlider(value=0.58, min=p_range[0], max=p_range[1], step=p_range[2], description='p:')\n",
    "L_slider = IntSlider(value=55, min=L_range[0], max=L_range[1], step=L_range[2], description='L:')\n",
    "\n",
    "interact_instance = interact(plot_grid_with_perc, p=p_slider, L=L_slider)\n"
   ]
  },
  {
   "cell_type": "code",
   "execution_count": null,
   "metadata": {},
   "outputs": [],
   "source": []
  }
 ],
 "metadata": {
  "kernelspec": {
   "display_name": "Python 3 (ipykernel)",
   "language": "python",
   "name": "python3"
  },
  "language_info": {
   "codemirror_mode": {
    "name": "ipython",
    "version": 3
   },
   "file_extension": ".py",
   "mimetype": "text/x-python",
   "name": "python",
   "nbconvert_exporter": "python",
   "pygments_lexer": "ipython3",
   "version": "3.10.13"
  }
 },
 "nbformat": 4,
 "nbformat_minor": 4
}
