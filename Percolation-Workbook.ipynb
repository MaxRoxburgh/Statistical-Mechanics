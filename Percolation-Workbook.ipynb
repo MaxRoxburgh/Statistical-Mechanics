{
 "cells": [
  {
   "cell_type": "markdown",
   "metadata": {},
   "source": [
    "## Statistical Mechanics\n",
    "### Percolation workbook"
   ]
  },
  {
   "cell_type": "code",
   "execution_count": null,
   "metadata": {},
   "outputs": [],
   "source": [
    "import numpy as np\n",
    "import scipy as sp\n",
    "import matplotlib.pyplot as plt\n",
    "from ipywidgets import interact, FloatSlider, IntSlider"
   ]
  },
  {
   "cell_type": "markdown",
   "metadata": {},
   "source": [
    "#### Percolation grid\n",
    "The code below creats a grid with each square having an equaly probability (p) of being filled. The girid is of size LxL"
   ]
  },
  {
   "cell_type": "code",
   "execution_count": null,
   "metadata": {},
   "outputs": [],
   "source": [
    "def plot_grid(p, L):\n",
    "    x = np.random.rand(L**2)\n",
    "    y = []\n",
    "    for i in x:\n",
    "        if i > p:\n",
    "            y.append(0)\n",
    "        else:\n",
    "            y.append(1) \n",
    "\n",
    "    y = np.matrix(y).reshape(L,L)\n",
    "    plt.imshow(y, cmap=\"Purples\", vmin=0, vmax=1.2)\n",
    "    plt.xticks([])\n",
    "    plt.yticks([])\n",
    "\n",
    "\n",
    "p_range = (0, 1, 0.01) # min, max, step\n",
    "L_range = (15, 150, 10) # min, max, step\n",
    "\n",
    "# Create sliders for p and L\n",
    "p_slider = FloatSlider(value=0.7, min=p_range[0], max=p_range[1], step=p_range[2], description='p:')\n",
    "L_slider = IntSlider(value=25, min=L_range[0], max=L_range[1], step=L_range[2], description='L:')\n",
    "\n",
    "# Use the interact function to link the sliders to the plot_grid function\n",
    "interact(plot_grid, p=p_slider, L=L_slider)"
   ]
  },
  {
   "cell_type": "code",
   "execution_count": null,
   "metadata": {},
   "outputs": [],
   "source": []
  }
 ],
 "metadata": {
  "kernelspec": {
   "display_name": "qiskit-runtime",
   "language": "python",
   "name": "python3"
  },
  "language_info": {
   "codemirror_mode": {
    "name": "ipython",
    "version": 3
   },
   "file_extension": ".py",
   "mimetype": "text/x-python",
   "name": "python",
   "nbconvert_exporter": "python",
   "pygments_lexer": "ipython3",
   "version": "3.10.13"
  }
 },
 "nbformat": 4,
 "nbformat_minor": 2
}
